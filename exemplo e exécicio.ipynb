{
  "cells": [
    {
      "cell_type": "markdown",
      "metadata": {
        "id": "view-in-github",
        "colab_type": "text"
      },
      "source": [
        "<a href=\"https://colab.research.google.com/github/mdesouzasilva571-pixel/aula9/blob/main/exemplo%20e%20ex%C3%A9cicio.ipynb\" target=\"_parent\"><img src=\"https://colab.research.google.com/assets/colab-badge.svg\" alt=\"Open In Colab\"/></a>"
      ]
    },
    {
      "cell_type": "code",
      "source": [
        "class Pessoa:\n",
        "  def __init__(self, nome, idade):\n",
        "    self.nome = nome\n",
        "    self.idade = idade\n",
        "    def get_nome(self):\n",
        "      return self.nome\n",
        "    def set_nome(self, nome):\n",
        "      self.nome = nome\n",
        "\n",
        "  def falar_nome(self):\n",
        "    print(f'Meu nome é {self.nome}')\n",
        "\n",
        "pessoa1 = Pessoa('João', 23)\n",
        "pessoa1.falar_nome()\n",
        "print(f'Eu tenho {pessoa1.idade} anos')\n",
        "\n",
        "class Celular:\n",
        "  def __init__(self, modelo, ano):\n",
        "    self.modelo = modelo\n",
        "    self.ano = ano\n",
        "\n",
        "  def mostrar_modelo(self):\n",
        "    print(f'O modelo do celular é {self.modelo}')\n",
        "\n",
        "celular1 = Celular('Samsung', 2022)\n",
        "celular1.mostrar_modelo()\n",
        "print(f'O ano do celular é {celular1.ano}')\n",
        "\n",
        "def usar_celular(celular):\n",
        "  print(f'O celular {celular.modelo} está sendo usado por {pessoa1.nome}')\n",
        "\n"
      ],
      "metadata": {
        "colab": {
          "base_uri": "https://localhost:8080/"
        },
        "id": "yc3LyjMsAkOb",
        "outputId": "33ecb8ae-e78b-4e53-b7e5-6a7c4b6fd808"
      },
      "execution_count": 8,
      "outputs": [
        {
          "output_type": "stream",
          "name": "stdout",
          "text": [
            "Meu nome é João\n",
            "Eu tenho 23 anos\n",
            "O modelo do celular é Samsung\n",
            "O ano do celular é 2022\n",
            "O celular Samsung está sendo usado por João\n"
          ]
        }
      ]
    },
    {
      "cell_type": "code",
      "source": [
        "class Autor:\n",
        "  def __init__(self, nome, idade, nacionalidade):\n",
        "    self.nome = nome\n",
        "    self.idade = idade\n",
        "    self.nacionalidade = nacionalidade\n",
        "\n",
        "class Livro:\n",
        "  def __init__(self, titulo, ano, autor):\n",
        "    self.titulo = titulo\n",
        "    self.ano = ano\n",
        "    self.autor = autor\n",
        "\n",
        "  def mostrar_titulo(self):\n",
        "    print(f'O titulo do livro é {self.titulo}')\n",
        "\n",
        "  def falar_nome_autor(self):\n",
        "    print(f'O autor do livro é {self.autor.nome}')\n",
        "\n",
        "autor1 = Autor('João', 23, 'Brasileiro')\n",
        "\n",
        "livro1=Livro('Python', 2022, autor1)\n",
        "livro1.mostrar_titulo()\n",
        "print(f'O ano do livro é {livro1.ano}')\n",
        "livro1.falar_nome_autor()"
      ],
      "metadata": {
        "colab": {
          "base_uri": "https://localhost:8080/"
        },
        "id": "yBLTRmHxKu2w",
        "outputId": "1f88581b-c5ef-4ced-fe5f-3b58efacbb88"
      },
      "execution_count": 13,
      "outputs": [
        {
          "output_type": "stream",
          "name": "stdout",
          "text": [
            "O titulo do livro é Python\n",
            "O ano do livro é 2022\n",
            "O autor do livro é João\n"
          ]
        }
      ]
    },
    {
      "cell_type": "code",
      "source": [
        "class ContaBancaria:\n",
        "  def __init__(self, titular, cpf, conta):\n",
        "    self.titular = titular\n",
        "    self.cpf = cpf\n",
        "    self.conta = conta\n",
        "\n",
        "class Usuario:\n",
        "  def __init__(self, nome, idade,cpf):\n",
        "    self.nome = nome\n",
        "    self.idade = idade\n",
        "    self.cpf = cpf\n",
        "\n",
        "  def get_nome(self):\n",
        "    return self.nome\n",
        "\n",
        "  def set_nome(self, nome):\n",
        "    self.nome = nome\n",
        "\n",
        "  def get_idade(self):\n",
        "    return self.idade\n",
        "\n",
        "  def set_idade(self, idade):\n",
        "    self.idade = idade\n",
        "\n",
        "  def get_cpf(self):\n",
        "    return self.cpf\n",
        "\n",
        "  def set_cpf(self, cpf):\n",
        "    self.cpf = cpf\n",
        "\n",
        "\n",
        "conta1 = ContaBancaria('João', '140.000.650-01', 1000)\n",
        "conta2 = ContaBancaria('Maria', '140.240.360-8', 2000)\n",
        "\n",
        "usuario1 = Usuario('João', 23, '123.456.789-00')\n",
        "usuario1.set_nome('Maria')\n",
        "print(usuario1.get_nome())\n",
        "\n",
        "print(f'O titular da conta é {conta1.titular} e a conta é {conta1.conta}')\n",
        "print(f'O titular da conta é {conta2.titular} e o conta é {conta2.conta}')"
      ],
      "metadata": {
        "colab": {
          "base_uri": "https://localhost:8080/"
        },
        "id": "yy0Y51CbNwe1",
        "outputId": "291535ac-988a-457a-9561-9f564000e11e"
      },
      "execution_count": 35,
      "outputs": [
        {
          "output_type": "stream",
          "name": "stdout",
          "text": [
            "Maria\n",
            "O titular da conta é João e a conta é 1000\n",
            "O titular da conta é Maria e o conta é 2000\n"
          ]
        }
      ]
    },
    {
      "cell_type": "code",
      "source": [
        "class SaoPaulo:\n",
        "  def __init__(self, nome, jogador):\n",
        "    self.nome = nome\n",
        "    self.jogador = jogador\n",
        "\n",
        "  def mostrar_nome(self):\n",
        "    print(f'O nome do time é {self.nome}')\n",
        "\n",
        "  def mostrar_jogador(self):\n",
        "    print(f'O jogador do time é {self.jogador}')\n",
        "\n",
        "jogador1_sp = SaoPaulo('São Paulo', 'Neymar')\n",
        "jogador1_sp.mostrar_nome()\n",
        "jogador1_sp.mostrar_jogador()\n",
        "jogador2_sp = SaoPaulo('São Paulo', 'Mbappe')\n",
        "jogador2_sp.mostrar_nome()\n",
        "jogador2_sp.mostrar_jogador()\n",
        "jogador3_sp = SaoPaulo('São Paulo', 'Messi')\n",
        "jogador3_sp.mostrar_nome()\n",
        "jogador3_sp.mostrar_jogador()\n",
        "\n",
        "class Campinense:\n",
        "  def __init__(self, nome, jogador):\n",
        "    self.nome = nome\n",
        "    self.jogador = jogador\n",
        "    self.jogos = []\n",
        "    self.gols = []\n",
        "\n",
        "  def mostrar_nome(self):\n",
        "    print(f'O nome do time é {self.nome}')\n",
        "\n",
        "  def mostrar_jogador(self):\n",
        "    print(f'O jogador do time é {self.jogador}')\n",
        "\n",
        "jogador1_cam = Campinense('Campinense', 'ViniJR')\n",
        "jogador1_cam.mostrar_nome()\n",
        "jogador1_cam.mostrar_jogador()\n",
        "jogador2_cam = Campinense('Campinense', 'GabiGol')\n",
        "jogador2_cam.mostrar_nome()\n",
        "jogador2_cam.mostrar_jogador()\n",
        "jogador3_cam = Campinense('Campinense', 'Cr7')\n",
        "jogador3_cam.mostrar_nome()\n",
        "jogador3_cam.mostrar_jogador()\n",
        "\n",
        "print(f'O primeiro time é {SaoPaulo.__name__} com os jogadores: {jogador1_sp.jogador}, {jogador2_sp.jogador}, {jogador3_sp.jogador}, e o segundo time é {Campinense.__name__} com os jogadores: {jogador1_cam.jogador}, {jogador2_cam.jogador}, {jogador3_cam.jogador}')"
      ],
      "metadata": {
        "colab": {
          "base_uri": "https://localhost:8080/"
        },
        "id": "jYZE6Z6-Pw0M",
        "outputId": "1ed2f9b8-1547-4799-e356-4c48377acee6"
      },
      "execution_count": 47,
      "outputs": [
        {
          "output_type": "stream",
          "name": "stdout",
          "text": [
            "O nome do time é São Paulo\n",
            "O jogador do time é Neymar\n",
            "O nome do time é São Paulo\n",
            "O jogador do time é Mbappe\n",
            "O nome do time é São Paulo\n",
            "O jogador do time é Messi\n",
            "O nome do time é Campinense\n",
            "O jogador do time é ViniJR\n",
            "O nome do time é Campinense\n",
            "O jogador do time é GabiGol\n",
            "O nome do time é Campinense\n",
            "O jogador do time é Cr7\n",
            "O primeiro time é SaoPaulo com os jogadores: Neymar, Mbappe, Messi, e o segundo time é Campinense com os jogadores: ViniJR, GabiGol, Cr7\n"
          ]
        }
      ]
    },
    {
      "cell_type": "code",
      "source": [
        "class Música:\n",
        "  def __init__(self, nome, artista, ano):\n",
        "    self.nome = nome\n",
        "    self.artista = artista\n",
        "    self.ano = ano\n",
        "\n",
        "  def mostrar_nome(self):\n",
        "    print(f'O nome da música é {self.nome}')\n",
        "\n",
        "  def mostrar_artista(self):\n",
        "    print(f'O artista da música é {self.artista}')\n",
        "\n",
        "  def mostrar_ano(self):\n",
        "    print(f'O ano da música é {self.ano}')\n",
        "\n",
        "musica1 = Música('Carta Branca', 'Magnificos', 2002)\n",
        "musica2 = Música('Aquarela', 'Queen', 1984)\n",
        "\n",
        "musica1.mostrar_nome()\n",
        "musica1.mostrar_artista()\n",
        "musica1.mostrar_ano()\n",
        "\n",
        "musica2.mostrar_nome()\n",
        "musica2.mostrar_artista()\n",
        "musica2.mostrar_ano()"
      ],
      "metadata": {
        "colab": {
          "base_uri": "https://localhost:8080/"
        },
        "id": "RCWcz2ltSjb0",
        "outputId": "b406661e-430a-48bb-8702-55510e64f185"
      },
      "execution_count": 45,
      "outputs": [
        {
          "output_type": "stream",
          "name": "stdout",
          "text": [
            "O nome da música é Carta Branca\n",
            "O artista da música é Magnificos\n",
            "O ano da música é 2002\n",
            "O nome da música é Aquarela\n",
            "O artista da música é Queen\n",
            "O ano da música é 1984\n"
          ]
        }
      ]
    }
  ],
  "metadata": {
    "colab": {
      "name": "Welcome To Colab",
      "toc_visible": true,
      "provenance": [],
      "include_colab_link": true
    },
    "kernelspec": {
      "display_name": "Python 3",
      "name": "python3"
    }
  },
  "nbformat": 4,
  "nbformat_minor": 0
}